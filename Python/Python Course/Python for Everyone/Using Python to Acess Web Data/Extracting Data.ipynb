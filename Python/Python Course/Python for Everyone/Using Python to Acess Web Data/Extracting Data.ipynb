{
 "cells": [
  {
   "cell_type": "markdown",
   "source": [
    "Extracting Data\n",
    "-Request and Regular Expression"
   ],
   "metadata": {
    "collapsed": false,
    "pycharm": {
     "name": "#%% md\n"
    }
   }
  },
  {
   "cell_type": "code",
   "execution_count": null,
   "outputs": [],
   "source": [
    "#Search for the Matches => In a List\n",
    "import re\n",
    "x = 'I am playing Soccer since I am 19 years old'\n",
    "y = re.findall('[0-9]',x)\n",
    "print(y)"
   ],
   "metadata": {
    "collapsed": false,
    "pycharm": {
     "name": "#%%\n"
    }
   }
  },
  {
   "cell_type": "markdown",
   "source": [
    "Spam Confidence"
   ],
   "metadata": {
    "collapsed": false,
    "pycharm": {
     "name": "#%% md\n"
    }
   }
  },
  {
   "cell_type": "code",
   "execution_count": null,
   "outputs": [],
   "source": [
    "import re\n",
    "doc = open('data.txt')\n",
    "outputlist = list()\n",
    "for line in doc:\n",
    "    line = line.strip()\n",
    "    stuff = re.findall('XXX')\n",
    "if len(stuff=!1)\n",
    "\n"
   ],
   "metadata": {
    "collapsed": false,
    "pycharm": {
     "name": "#%%\n"
    }
   }
  }
 ],
 "metadata": {
  "kernelspec": {
   "display_name": "Python 3",
   "language": "python",
   "name": "python3"
  },
  "language_info": {
   "codemirror_mode": {
    "name": "ipython",
    "version": 2
   },
   "file_extension": ".py",
   "mimetype": "text/x-python",
   "name": "python",
   "nbconvert_exporter": "python",
   "pygments_lexer": "ipython2",
   "version": "2.7.6"
  }
 },
 "nbformat": 4,
 "nbformat_minor": 0
}