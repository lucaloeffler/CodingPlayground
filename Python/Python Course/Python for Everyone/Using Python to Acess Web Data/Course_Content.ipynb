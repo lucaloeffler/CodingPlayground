{
 "cells": [
  {
   "cell_type": "markdown",
   "source": [
    "Week 2:\n",
    "Extracting Data\n",
    "-Request and Regular Expression (https://www.py4e.com/lectures3/Pythonlearn-11-Regex-Handout.txt)"
   ],
   "metadata": {
    "collapsed": false,
    "pycharm": {
     "name": "#%% md\n"
    }
   }
  },
  {
   "cell_type": "code",
   "execution_count": null,
   "outputs": [],
   "source": [
    "#Search for the Matches => In a List\n",
    "import re\n",
    "x = 'I am playing Soccer since I am 19 years old'\n",
    "y = re.findall('[0-9]',x)\n",
    "print(y)"
   ],
   "metadata": {
    "collapsed": false,
    "pycharm": {
     "name": "#%%\n"
    }
   }
  },
  {
   "cell_type": "code",
   "execution_count": 4,
   "outputs": [
    {
     "name": "stdout",
     "output_type": "stream",
     "text": [
      "['From: Using the :']\n"
     ]
    }
   ],
   "source": [
    "#Testing\n",
    "x = 'From: Using the : character'\n",
    "y = re.findall('^F.+:', x)\n",
    "print(y)"
   ],
   "metadata": {
    "collapsed": false,
    "pycharm": {
     "name": "#%%\n"
    }
   }
  },
  {
   "cell_type": "code",
   "execution_count": 5,
   "outputs": [
    {
     "name": "stdout",
     "output_type": "stream",
     "text": [
      "['stephen.marquard@uct.ac.za']\n"
     ]
    }
   ],
   "source": [
    "sentence = \"From stephen.marquard@uct.ac.za Sat Jan  5 09:14:16 2008\"\n",
    "y = re.findall(\"\\S+?@\\S+\", sentence)\n",
    "print(y)"
   ],
   "metadata": {
    "collapsed": false,
    "pycharm": {
     "name": "#%%\n"
    }
   }
  },
  {
   "cell_type": "markdown",
   "source": [
    "Extracting Data with Regular Expressions Assignment"
   ],
   "metadata": {
    "collapsed": false,
    "pycharm": {
     "name": "#%% md\n"
    }
   }
  },
  {
   "cell_type": "code",
   "execution_count": 9,
   "outputs": [
    {
     "name": "stdout",
     "output_type": "stream",
     "text": [
      "352039\n"
     ]
    }
   ],
   "source": [
    "import re\n",
    "doc1 = open('ActualData.txt', \"r\")\n",
    "totalsum = 0\n",
    "\n",
    "for line in doc1:\n",
    "    numlist = re.findall('[0-9]+', line)\n",
    "    if len(numlist) >0:\n",
    "        for item in  numlist:\n",
    "            totalsum = totalsum + int(item)\n",
    "print(totalsum"
   ],
   "metadata": {
    "collapsed": false,
    "pycharm": {
     "name": "#%%\n"
    }
   }
  },
  {
   "cell_type": "markdown",
   "source": [
    "Week 3:"
   ],
   "metadata": {
    "collapsed": false,
    "pycharm": {
     "name": "#%% md\n"
    }
   }
  },
  {
   "cell_type": "markdown",
   "source": [
    "Transport Control Protocol (TCP) => Socket\n",
    "-Different applications use different Ports on a Server\n",
    "-Port 80 is the Webport = http"
   ],
   "metadata": {
    "collapsed": false,
    "pycharm": {
     "name": "#%% md\n"
    }
   }
  },
  {
   "cell_type": "code",
   "execution_count": null,
   "outputs": [],
   "source": [
    "import socket\n",
    "mysock = socket.socket(socket.AF_INET, socket.SOCK_STREAM)\n",
    "mysock.connect(('data.pr4e.org', 80))"
   ],
   "metadata": {
    "collapsed": false,
    "pycharm": {
     "name": "#%%\n"
    }
   }
  },
  {
   "cell_type": "markdown",
   "source": [
    "Hypertext Transfer Protocol (HTTP Protocol)\n",
    "=> Form of a Standart Header/Body"
   ],
   "metadata": {
    "collapsed": false,
    "pycharm": {
     "name": "#%% md\n"
    }
   }
  },
  {
   "cell_type": "code",
   "execution_count": 1,
   "outputs": [
    {
     "name": "stdout",
     "output_type": "stream",
     "text": [
      "HTTP/1.0 404 Not Found\n",
      "Pragma: no-cache\n",
      "Content-type: text/html; charset=utf-8\n",
      "Content-Length: 5521\n",
      "\n",
      "\n",
      "﻿<!DOCTYPE html>\n",
      "<html>\n",
      "<head>\n",
      "<meta http-equiv=content-type content=\"text/html; charset=utf-8\" />\n",
      "<meta http-equiv=\"Cache-Control\" content=\"private, no-transform\" />\n",
      "<meta http-equiv=\"X-UA-Compatible\" content=\"IE=edge\" />\n",
      "<meta name=\"format-detection\" content=\"telephone=no\" />\n",
      "<meta http-equiv=\"x-rim-auto-match\" content=\"none\" />\n",
      "<meta name=\"viewport\" content=\"width=device-width, initial-scale=1.0, maximum-scale=1.0, user-scalable=no, minimal-ui\" />\n",
      "<meta name=\"mobile-web-app-capable\" content=\"yes\" />\n",
      "<m\n",
      "eta name=\"apple-mobile-web-app-capable\" content=\"yes\" />\n",
      "<meta name=\"apple-mobile-web-app-status-bar-style\" content=\"black-translucent\" />\n",
      "<meta http-equiv=\"cleartype\" content=\"on\">\n",
      "<title>HINWEIS: Die Internetseite ist gesperrt.</title>\n",
      "<style>\n",
      "/********************************************** Allgemein **********************************************/\n",
      "* {\n",
      "-webkit-tap-highlight-color: rgba(0,0,0,0);\n",
      "-webkit-box-sizing: border-box;\n",
      "-moz-box-sizing: border-box;\n",
      "box-sizing: border-box;\n",
      "-webkit-touch-callout: text\n",
      ";\n",
      "-webkit-user-select: text;\n",
      "-khtml-user-select: text;\n",
      "-moz-user-select: text;\n",
      "-ms-user-select: text;\n",
      "user-select: text;\n",
      "font-size: 100%;\n",
      "vertical-align: middle;\n",
      "outline: 0;\n",
      "}\n",
      "*:link {\n",
      "-webkit-tap-highlight-color: rgba(135,200,250,0.4);\n",
      "}\n",
      "*::selection {\n",
      "background: transparent;\n",
      "}\n",
      "*::-moz-selection {\n",
      "background: transparent;\n",
      "}\n",
      ".selectable *::selection {\n",
      "background: #8fdaff;\n",
      "}\n",
      ".selectable *::-moz-selection {\n",
      "backgr\n",
      "ound: #8fdaff;\n",
      "}\n",
      "html {\n",
      "height: 100%;\n",
      "font-size: 100%;\n",
      "font-family: Arial, sans-serif;\n",
      "background-color: #f0eee6;\n",
      "transition: background-color 400ms cubic-bezier(0.165, 0.840, 0.440, 1.000);\n",
      "overflow-x: hidden;\n",
      "overflow-y: scroll;\n",
      "}\n",
      "body {\n",
      "padding:0;\n",
      "margin:0;\n",
      "color: #3F464C;\n",
      "line-height: 1;\n",
      "}\n",
      "h1, h2, h3, h4, h5, p, span, div, br, nav, header, section, menu {\n",
      "margin: 0;\n",
      "padding: 0;\n",
      "border: 0;\n",
      "}\n",
      "p a {\n",
      "vertical-align: bottom;\n",
      "}\n",
      "header {\n",
      "\n",
      "height: 6.25rem;\n",
      "width: 100%;\n",
      "position: fixed;\n",
      "top: 0;\n",
      "left: 0;\n",
      "z-index: 100;\n",
      "background-color: #006ec0;\n",
      "display: -webkit-box;\n",
      "display: -moz-box;\n",
      "display: -ms-flexbox;\n",
      "display: -webkit-flex;\n",
      "display: flex;\n",
      "-webkit-box-flex-direction: row;\n",
      "-moz-box-flex-direction: row;\n",
      "-webkit-flex-direction: row;\n",
      "-ms-flex-direction: row;\n",
      "flex-direction: row;\n",
      "transition: all 400ms cubic-bezier(0.165, 0.840, 0.440, 1.000);\n",
      "}\n",
      ".blue_bar_titel {\n",
      "-webkit-box-flex: 1 1 auto;\n",
      "-moz-box-flex: 1 1 auto;\n",
      "-webkit-flex: 1 1 auto;\n",
      "-ms-fl\n",
      "ex: 1 1 auto;\n",
      "flex: 1 1 auto;\n",
      "-webkit-box-align-self: center;\n",
      "-moz-box-align-self: center;\n",
      "-webkit-align-self: center;\n",
      "-ms-align-self: center;\n",
      "align-self: center;\n",
      "margin: 0;\n",
      "font-size: 3rem;\n",
      "font-weight: bold;\n",
      "text-align: left;\n",
      "color: #fff;\n",
      "overflow: hidden;\n",
      "white-space: nowrap;\n",
      "text-overflow: ellipsis;\n",
      "text-align: center;\n",
      "transition: all 150ms;\n",
      "cursor: pointer;\n",
      "}\n",
      "#page_content_no_menu_box {\n",
      "margin-top: 25vh;\n",
      "line-height: 1.25rem;\n",
      "}\n",
      "#page_content_no_menu_box p {\n",
      "margin: 0.6rem 0;\n",
      "}\n",
      ".mobileOnly {\n",
      "\n",
      "display: none;\n",
      "}\n",
      "@media (min-width: 760px) {\n",
      "/*pc*/\n",
      ".page_content, .blue_bar_back {\n",
      "width: 33rem;\n",
      "margin: auto;\n",
      "transition: width 400ms cubic-bezier(0.165, 0.840, 0.440, 1.000);\n",
      "}\n",
      ".blue_bar_back {\n",
      "text-align: left;\n",
      "height: 3rem;\n",
      "margin: auto;\n",
      "border: 1px solid #8DA4A3;\n",
      "background-color: #117ccd;\n",
      "}\n",
      ".blue_bar_back h2 {\n",
      "margin: 0 0 0 1.25rem;\n",
      "font-weight: bold;\n",
      "font-size: 1.25rem;\n",
      "color: #fff;\n",
      "letter-spacing: 0.025rem;\n",
      "line-height: 3rem;\n",
      "}\n",
      ".page_content {\n",
      "background-color: #ffffff;\n",
      "padding: 0.5rem 1.25rem;\n",
      "bo\n",
      "rder: 1px solid #8DA4A3;\n",
      "border-top: none;\n",
      "min-height: 5rem;\n",
      "}\n",
      "}\n",
      "@media (max-width: 759px) {\n",
      "/*für mobile Ansicht*/\n",
      "html {\n",
      "background-color: #fff;\n",
      "}\n",
      "#page_content_no_menu_box {\n",
      "margin-top: 4.5rem;\n",
      "font-size: 1.25rem;\n",
      "}\n",
      "header {\n",
      "height: 3.75rem;\n",
      "}\n",
      ".blue_bar_titel {\n",
      "text-align: left;\n",
      "font-size: 1.25rem;\n",
      "font-weight: normal;\n",
      "height: 100%;\n",
      "line-height: 3.75rem;\n",
      "padding: 0 0 0 1rem;\n",
      "}\n",
      ".blue_bar_titel.hide {\n",
      "color: transparent;\n",
      "}\n",
      ".blue_bar_back {\n",
      "display: none;\n",
      "}\n",
      ".page_content {\n",
      "width: 90%;\n",
      "margin: auto;\n",
      "}\n",
      ".mobi\n",
      "leOnly {\n",
      "display: initial;\n",
      "}\n",
      "}\n",
      "@media (min-width: 1900px) {\n",
      "html {\n",
      "font-size: 125%;\n",
      "}\n",
      "}\n",
      "</style>\n",
      "<script type=\"text/javascript\">\n",
      "function getReason(reasonId, reason) {\n",
      "reasonId = parseInt(reasonId, 10) || -1;\n",
      "switch (reasonId) {\n",
      "case -1: return reason;\n",
      "//#define SERVER_UNKNOWN 1\n",
      "case 1: return \"unbekannter Server\";\n",
      "//#define SERVER_CONNECT_FAILED 2\n",
      "case 2: return \"Verbindung zum Server nicht hergestellt\";\n",
      "//#defi\n",
      "ne URL_NOT_ALLOWED 3\n",
      "case 3: return \"Zugriff auf die Seite ist nicht erlaubt\";\n",
      "//#define URLCHECK_START_FAILED 4\n",
      "case 4: return \"URL Prüfung fehlgeschlagen\";\n",
      "//#define URLCHECK_START_IN_PROGRESS 5\n",
      "case 5: return \"Bitte erneut versuchen\";\n",
      "//#define URL_UNKNOWN 6\n",
      "case 6: return \"unbekannte URL\";\n",
      "//ansonsten\n",
      "case 7: return \"Zugriff auf IP-Adressen ist nicht erlaubt\";\n",
      "default:\n",
      "return \"unbekannte Ursache\";\n",
      "}\n",
      "return \"\";\n",
      "}\n",
      "</script>\n",
      "</head>\n",
      "<body>\n",
      "<div id=\"main_page_all\">\n",
      "<header class=\"\" name=\"\" id=\"blueBarBox\">\n",
      "\n",
      "<\n",
      "div class=\"blue_bar_titel\" name=\"\" id=\"blueBarTitel\">FRITZ!Box</div>\n",
      "</header>\n",
      "<div id=\"page_content_no_menu_box\">\n",
      "<div class=\"area_box\">\n",
      "<div class=\"blue_bar_back\">\n",
      "<div><h2>Die Internetseite ist gesperrt.</h2></div>\n",
      "</div>\n",
      "<div class=\"page_content\">\n",
      "<h4 class=\"mobileOnly\">Die Internetseite ist gesperrt.</h4>\n",
      "<p>Der Internetfilter in der FRITZ!Box ist aktiviert. Die gewünschte Seite darf auf Grund der Filtereinstellungen nicht angezeigt werden.</p>\n",
      "<div>\n",
      "<p>Url: http://data.pr4e.org/intro-short.txt</p>\n",
      "<p\n",
      ">Grund: <script type=\"text/javascript\">document.write(getReason(\"3\", \"access to URL not allowed\"));</script>\n",
      "</div>\n",
      "<br>\n",
      "</div>\n",
      "</div>\n",
      "</div>\n",
      "</div>\n",
      "</body>\n",
      "</html>\n",
      "\n"
     ]
    }
   ],
   "source": [
    "import socket\n",
    "mysock = socket.socket(socket.AF_INET, socket.SOCK_STREAM)\n",
    "mysock.connect(('data.pr4e.org', 80))\n",
    "cmd = 'GET http://data.pr4e.org/intro-short.txt HTTP/1.0\\r\\n\\r\\n'.encode()\n",
    "mysock.send(cmd)\n",
    "\n",
    "lit = list()\n",
    "while True:\n",
    "    data = mysock.recv(512)\n",
    "    lit.append(data)\n",
    "    if (len(data) < 1):\n",
    "        break\n",
    "    print(data.decode())\n",
    "mysock.close()\n",
    "\n"
   ],
   "metadata": {
    "collapsed": false,
    "pycharm": {
     "name": "#%%\n"
    }
   }
  },
  {
   "cell_type": "markdown",
   "source": [
    "Week 4:\n"
   ],
   "metadata": {
    "collapsed": false,
    "pycharm": {
     "name": "#%% md\n"
    }
   }
  },
  {
   "cell_type": "code",
   "execution_count": 1,
   "outputs": [],
   "source": [
    "import urllib.request, urllib.parse, urllib.error\n",
    "\n",
    "fhand = urllib.request.urlopen('http://www.dr-chuck.com/page1.htm')\n",
    "for line in fhand:\n",
    "    print(line.decode().strip())\n"
   ],
   "metadata": {
    "collapsed": false,
    "pycharm": {
     "name": "#%%\n"
    }
   }
  },
  {
   "cell_type": "markdown",
   "source": [
    "Web Scraping\n",
    "=> When a Program or script pretends to be a browser and retrieves web pages, extracts informations\n",
    "=> Web Crawler\n",
    "=> Solution: Beautiful Soup"
   ],
   "metadata": {
    "collapsed": false,
    "pycharm": {
     "name": "#%% md\n"
    }
   }
  },
  {
   "cell_type": "code",
   "execution_count": 3,
   "outputs": [
    {
     "ename": "ValueError",
     "evalue": "unknown url type: ''",
     "output_type": "error",
     "traceback": [
      "\u001B[0;31m---------------------------------------------------------------------------\u001B[0m",
      "\u001B[0;31mValueError\u001B[0m                                Traceback (most recent call last)",
      "\u001B[0;32m<ipython-input-3-7a974893c76b>\u001B[0m in \u001B[0;36m<module>\u001B[0;34m\u001B[0m\n\u001B[1;32m      3\u001B[0m \u001B[0;34m\u001B[0m\u001B[0m\n\u001B[1;32m      4\u001B[0m \u001B[0murl\u001B[0m \u001B[0;34m=\u001B[0m \u001B[0minput\u001B[0m\u001B[0;34m(\u001B[0m\u001B[0;34m'Enter - '\u001B[0m\u001B[0;34m)\u001B[0m\u001B[0;34m\u001B[0m\u001B[0;34m\u001B[0m\u001B[0m\n\u001B[0;32m----> 5\u001B[0;31m \u001B[0mhtml\u001B[0m \u001B[0;34m=\u001B[0m \u001B[0murllib\u001B[0m\u001B[0;34m.\u001B[0m\u001B[0mrequest\u001B[0m\u001B[0;34m.\u001B[0m\u001B[0murlopen\u001B[0m\u001B[0;34m(\u001B[0m\u001B[0murl\u001B[0m\u001B[0;34m)\u001B[0m\u001B[0;34m.\u001B[0m\u001B[0mread\u001B[0m\u001B[0;34m(\u001B[0m\u001B[0;34m)\u001B[0m\u001B[0;34m\u001B[0m\u001B[0;34m\u001B[0m\u001B[0m\n\u001B[0m\u001B[1;32m      6\u001B[0m \u001B[0msoup\u001B[0m \u001B[0;34m=\u001B[0m \u001B[0mBeautifulSoup\u001B[0m\u001B[0;34m(\u001B[0m\u001B[0mhtml\u001B[0m\u001B[0;34m,\u001B[0m \u001B[0;34m'html.parser'\u001B[0m\u001B[0;34m)\u001B[0m\u001B[0;34m\u001B[0m\u001B[0;34m\u001B[0m\u001B[0m\n\u001B[1;32m      7\u001B[0m \u001B[0;34m\u001B[0m\u001B[0m\n",
      "\u001B[0;32m/Applications/Xcode.app/Contents/Developer/Library/Frameworks/Python3.framework/Versions/3.8/lib/python3.8/urllib/request.py\u001B[0m in \u001B[0;36murlopen\u001B[0;34m(url, data, timeout, cafile, capath, cadefault, context)\u001B[0m\n\u001B[1;32m    220\u001B[0m     \u001B[0;32melse\u001B[0m\u001B[0;34m:\u001B[0m\u001B[0;34m\u001B[0m\u001B[0;34m\u001B[0m\u001B[0m\n\u001B[1;32m    221\u001B[0m         \u001B[0mopener\u001B[0m \u001B[0;34m=\u001B[0m \u001B[0m_opener\u001B[0m\u001B[0;34m\u001B[0m\u001B[0;34m\u001B[0m\u001B[0m\n\u001B[0;32m--> 222\u001B[0;31m     \u001B[0;32mreturn\u001B[0m \u001B[0mopener\u001B[0m\u001B[0;34m.\u001B[0m\u001B[0mopen\u001B[0m\u001B[0;34m(\u001B[0m\u001B[0murl\u001B[0m\u001B[0;34m,\u001B[0m \u001B[0mdata\u001B[0m\u001B[0;34m,\u001B[0m \u001B[0mtimeout\u001B[0m\u001B[0;34m)\u001B[0m\u001B[0;34m\u001B[0m\u001B[0;34m\u001B[0m\u001B[0m\n\u001B[0m\u001B[1;32m    223\u001B[0m \u001B[0;34m\u001B[0m\u001B[0m\n\u001B[1;32m    224\u001B[0m \u001B[0;32mdef\u001B[0m \u001B[0minstall_opener\u001B[0m\u001B[0;34m(\u001B[0m\u001B[0mopener\u001B[0m\u001B[0;34m)\u001B[0m\u001B[0;34m:\u001B[0m\u001B[0;34m\u001B[0m\u001B[0;34m\u001B[0m\u001B[0m\n",
      "\u001B[0;32m/Applications/Xcode.app/Contents/Developer/Library/Frameworks/Python3.framework/Versions/3.8/lib/python3.8/urllib/request.py\u001B[0m in \u001B[0;36mopen\u001B[0;34m(self, fullurl, data, timeout)\u001B[0m\n\u001B[1;32m    507\u001B[0m         \u001B[0;31m# accept a URL or a Request object\u001B[0m\u001B[0;34m\u001B[0m\u001B[0;34m\u001B[0m\u001B[0;34m\u001B[0m\u001B[0m\n\u001B[1;32m    508\u001B[0m         \u001B[0;32mif\u001B[0m \u001B[0misinstance\u001B[0m\u001B[0;34m(\u001B[0m\u001B[0mfullurl\u001B[0m\u001B[0;34m,\u001B[0m \u001B[0mstr\u001B[0m\u001B[0;34m)\u001B[0m\u001B[0;34m:\u001B[0m\u001B[0;34m\u001B[0m\u001B[0;34m\u001B[0m\u001B[0m\n\u001B[0;32m--> 509\u001B[0;31m             \u001B[0mreq\u001B[0m \u001B[0;34m=\u001B[0m \u001B[0mRequest\u001B[0m\u001B[0;34m(\u001B[0m\u001B[0mfullurl\u001B[0m\u001B[0;34m,\u001B[0m \u001B[0mdata\u001B[0m\u001B[0;34m)\u001B[0m\u001B[0;34m\u001B[0m\u001B[0;34m\u001B[0m\u001B[0m\n\u001B[0m\u001B[1;32m    510\u001B[0m         \u001B[0;32melse\u001B[0m\u001B[0;34m:\u001B[0m\u001B[0;34m\u001B[0m\u001B[0;34m\u001B[0m\u001B[0m\n\u001B[1;32m    511\u001B[0m             \u001B[0mreq\u001B[0m \u001B[0;34m=\u001B[0m \u001B[0mfullurl\u001B[0m\u001B[0;34m\u001B[0m\u001B[0;34m\u001B[0m\u001B[0m\n",
      "\u001B[0;32m/Applications/Xcode.app/Contents/Developer/Library/Frameworks/Python3.framework/Versions/3.8/lib/python3.8/urllib/request.py\u001B[0m in \u001B[0;36m__init__\u001B[0;34m(self, url, data, headers, origin_req_host, unverifiable, method)\u001B[0m\n\u001B[1;32m    326\u001B[0m                  \u001B[0morigin_req_host\u001B[0m\u001B[0;34m=\u001B[0m\u001B[0;32mNone\u001B[0m\u001B[0;34m,\u001B[0m \u001B[0munverifiable\u001B[0m\u001B[0;34m=\u001B[0m\u001B[0;32mFalse\u001B[0m\u001B[0;34m,\u001B[0m\u001B[0;34m\u001B[0m\u001B[0;34m\u001B[0m\u001B[0m\n\u001B[1;32m    327\u001B[0m                  method=None):\n\u001B[0;32m--> 328\u001B[0;31m         \u001B[0mself\u001B[0m\u001B[0;34m.\u001B[0m\u001B[0mfull_url\u001B[0m \u001B[0;34m=\u001B[0m \u001B[0murl\u001B[0m\u001B[0;34m\u001B[0m\u001B[0;34m\u001B[0m\u001B[0m\n\u001B[0m\u001B[1;32m    329\u001B[0m         \u001B[0mself\u001B[0m\u001B[0;34m.\u001B[0m\u001B[0mheaders\u001B[0m \u001B[0;34m=\u001B[0m \u001B[0;34m{\u001B[0m\u001B[0;34m}\u001B[0m\u001B[0;34m\u001B[0m\u001B[0;34m\u001B[0m\u001B[0m\n\u001B[1;32m    330\u001B[0m         \u001B[0mself\u001B[0m\u001B[0;34m.\u001B[0m\u001B[0munredirected_hdrs\u001B[0m \u001B[0;34m=\u001B[0m \u001B[0;34m{\u001B[0m\u001B[0;34m}\u001B[0m\u001B[0;34m\u001B[0m\u001B[0;34m\u001B[0m\u001B[0m\n",
      "\u001B[0;32m/Applications/Xcode.app/Contents/Developer/Library/Frameworks/Python3.framework/Versions/3.8/lib/python3.8/urllib/request.py\u001B[0m in \u001B[0;36mfull_url\u001B[0;34m(self, url)\u001B[0m\n\u001B[1;32m    352\u001B[0m         \u001B[0mself\u001B[0m\u001B[0;34m.\u001B[0m\u001B[0m_full_url\u001B[0m \u001B[0;34m=\u001B[0m \u001B[0munwrap\u001B[0m\u001B[0;34m(\u001B[0m\u001B[0murl\u001B[0m\u001B[0;34m)\u001B[0m\u001B[0;34m\u001B[0m\u001B[0;34m\u001B[0m\u001B[0m\n\u001B[1;32m    353\u001B[0m         \u001B[0mself\u001B[0m\u001B[0;34m.\u001B[0m\u001B[0m_full_url\u001B[0m\u001B[0;34m,\u001B[0m \u001B[0mself\u001B[0m\u001B[0;34m.\u001B[0m\u001B[0mfragment\u001B[0m \u001B[0;34m=\u001B[0m \u001B[0m_splittag\u001B[0m\u001B[0;34m(\u001B[0m\u001B[0mself\u001B[0m\u001B[0;34m.\u001B[0m\u001B[0m_full_url\u001B[0m\u001B[0;34m)\u001B[0m\u001B[0;34m\u001B[0m\u001B[0;34m\u001B[0m\u001B[0m\n\u001B[0;32m--> 354\u001B[0;31m         \u001B[0mself\u001B[0m\u001B[0;34m.\u001B[0m\u001B[0m_parse\u001B[0m\u001B[0;34m(\u001B[0m\u001B[0;34m)\u001B[0m\u001B[0;34m\u001B[0m\u001B[0;34m\u001B[0m\u001B[0m\n\u001B[0m\u001B[1;32m    355\u001B[0m \u001B[0;34m\u001B[0m\u001B[0m\n\u001B[1;32m    356\u001B[0m     \u001B[0;34m@\u001B[0m\u001B[0mfull_url\u001B[0m\u001B[0;34m.\u001B[0m\u001B[0mdeleter\u001B[0m\u001B[0;34m\u001B[0m\u001B[0;34m\u001B[0m\u001B[0m\n",
      "\u001B[0;32m/Applications/Xcode.app/Contents/Developer/Library/Frameworks/Python3.framework/Versions/3.8/lib/python3.8/urllib/request.py\u001B[0m in \u001B[0;36m_parse\u001B[0;34m(self)\u001B[0m\n\u001B[1;32m    381\u001B[0m         \u001B[0mself\u001B[0m\u001B[0;34m.\u001B[0m\u001B[0mtype\u001B[0m\u001B[0;34m,\u001B[0m \u001B[0mrest\u001B[0m \u001B[0;34m=\u001B[0m \u001B[0m_splittype\u001B[0m\u001B[0;34m(\u001B[0m\u001B[0mself\u001B[0m\u001B[0;34m.\u001B[0m\u001B[0m_full_url\u001B[0m\u001B[0;34m)\u001B[0m\u001B[0;34m\u001B[0m\u001B[0;34m\u001B[0m\u001B[0m\n\u001B[1;32m    382\u001B[0m         \u001B[0;32mif\u001B[0m \u001B[0mself\u001B[0m\u001B[0;34m.\u001B[0m\u001B[0mtype\u001B[0m \u001B[0;32mis\u001B[0m \u001B[0;32mNone\u001B[0m\u001B[0;34m:\u001B[0m\u001B[0;34m\u001B[0m\u001B[0;34m\u001B[0m\u001B[0m\n\u001B[0;32m--> 383\u001B[0;31m             \u001B[0;32mraise\u001B[0m \u001B[0mValueError\u001B[0m\u001B[0;34m(\u001B[0m\u001B[0;34m\"unknown url type: %r\"\u001B[0m \u001B[0;34m%\u001B[0m \u001B[0mself\u001B[0m\u001B[0;34m.\u001B[0m\u001B[0mfull_url\u001B[0m\u001B[0;34m)\u001B[0m\u001B[0;34m\u001B[0m\u001B[0;34m\u001B[0m\u001B[0m\n\u001B[0m\u001B[1;32m    384\u001B[0m         \u001B[0mself\u001B[0m\u001B[0;34m.\u001B[0m\u001B[0mhost\u001B[0m\u001B[0;34m,\u001B[0m \u001B[0mself\u001B[0m\u001B[0;34m.\u001B[0m\u001B[0mselector\u001B[0m \u001B[0;34m=\u001B[0m \u001B[0m_splithost\u001B[0m\u001B[0;34m(\u001B[0m\u001B[0mrest\u001B[0m\u001B[0;34m)\u001B[0m\u001B[0;34m\u001B[0m\u001B[0;34m\u001B[0m\u001B[0m\n\u001B[1;32m    385\u001B[0m         \u001B[0;32mif\u001B[0m \u001B[0mself\u001B[0m\u001B[0;34m.\u001B[0m\u001B[0mhost\u001B[0m\u001B[0;34m:\u001B[0m\u001B[0;34m\u001B[0m\u001B[0;34m\u001B[0m\u001B[0m\n",
      "\u001B[0;31mValueError\u001B[0m: unknown url type: ''"
     ]
    }
   ],
   "source": [
    "import urllib.request, urllib.parse, urllib.error\n",
    "from bs4 import BeautifulSoup\n",
    "import ssl\n",
    "\n",
    "url = input('Enter - ')\n",
    "html = urllib.request.urlopen(url).read()\n",
    "soup = BeautifulSoup(html, 'html.parser')\n",
    "\n",
    "# Retrieve all of the anchor tags\n",
    "tags = soup('a')\n",
    "for tag in tags:\n",
    "    print(tag.get('href', None))"
   ],
   "metadata": {
    "collapsed": false,
    "pycharm": {
     "name": "#%%\n"
    }
   }
  },
  {
   "cell_type": "code",
   "execution_count": 7,
   "outputs": [
    {
     "name": "stdout",
     "output_type": "stream",
     "text": [
      "Count 50\n",
      "Sum 2778\n"
     ]
    }
   ],
   "source": [
    "#Assingment 1\n",
    "\n",
    "import urllib.request, urllib.parse, urllib.error\n",
    "from bs4 import BeautifulSoup\n",
    "import ssl\n",
    "\n",
    "#Get SSL Certification Error handeling\n",
    "ctx = ssl.create_default_context()\n",
    "ctx.check_hostname = False\n",
    "ctx.verify_mode = ssl.CERT_NONE\n",
    "\n",
    "#Data Collect From the Website\n",
    "link = input('Enter - ')\n",
    "html = urllib.request.urlopen(link, context = ctx).read()\n",
    "soup = BeautifulSoup(html, 'html.parser')\n",
    "\n",
    "\n",
    "#Data Scraping\n",
    "tags = soup('span')\n",
    "sm = 0\n",
    "cn = 0\n",
    "for tag in tags:\n",
    "    cn += 1\n",
    "    sm += int(tag.contents[0])\n",
    "\n",
    "print('Count %d' % cn)\n",
    "print('Sum %d' % sm)"
   ],
   "metadata": {
    "collapsed": false,
    "pycharm": {
     "name": "#%%\n"
    }
   }
  },
  {
   "cell_type": "code",
   "execution_count": 10,
   "outputs": [
    {
     "name": "stdout",
     "output_type": "stream",
     "text": [
      "Retrieving : http://py4e-data.dr-chuck.net/known_by_Ryo.html\n",
      "Retrieving : http://py4e-data.dr-chuck.net/known_by_Sabina.html\n",
      "Retrieving : http://py4e-data.dr-chuck.net/known_by_Abbie.html\n",
      "Retrieving : http://py4e-data.dr-chuck.net/known_by_Carys.html\n",
      "Retrieving : http://py4e-data.dr-chuck.net/known_by_Robertjohn.html\n",
      "Retrieving : http://py4e-data.dr-chuck.net/known_by_Amieleigh.html\n",
      "Retrieving : http://py4e-data.dr-chuck.net/known_by_Brendan.html\n"
     ]
    }
   ],
   "source": [
    "#Assingemnt 2\n",
    "import urllib.request, urllib.parse, urllib.error\n",
    "from bs4 import BeautifulSoup\n",
    "import ssl\n",
    "\n",
    "#Ignore SSL certificate errors\n",
    "ctx = ssl.create_default_context()\n",
    "ctx.check_hostname = False\n",
    "ctx.verify_mode = ssl.CERT_NONE\n",
    "\n",
    "#Set an input function for the url address and parse it through BeautifulSoup\n",
    "url = input('Enter URL : ')\n",
    "html = urllib.request.urlopen(url, context = ctx).read()\n",
    "soup = BeautifulSoup(html, 'html.parser')\n",
    "\n",
    "#Set up an input functions for the repeat\n",
    "countinp = input('Enter count : ')\n",
    "count = int(countinp)\n",
    "\n",
    "#Set up an input function for the position\n",
    "positioninp = input('Enter position : ')\n",
    "position = int(positioninp)\n",
    "\n",
    "#Initialize currcount to 0\n",
    "currcount = 0\n",
    "\n",
    "#Repeat the loop for the required amount of repeats\n",
    "while currcount < count :\n",
    "\n",
    "\t# Retrieve the url for the required position and print it\n",
    "\ttags = soup('a')\n",
    "\tfor tag in tags:\n",
    "\t\ttag = tags[position - 1].get('href', None)\n",
    "\tprint(\"Retrieving : \" + tag)\n",
    "\n",
    "\t#Update url and parse it through BeautifulSoup\n",
    "\turl = tag\n",
    "\thtml = urllib.request.urlopen(url, context = ctx).read()\n",
    "\tsoup = BeautifulSoup(html, 'html.parser')\n",
    "\n",
    "\t#Update currcount by 1 each step\n",
    "\tcurrcount = currcount + 1"
   ],
   "metadata": {
    "collapsed": false,
    "pycharm": {
     "name": "#%%\n"
    }
   }
  },
  {
   "cell_type": "markdown",
   "source": [
    "Week 5:\n",
    "Web Services and XML\n",
    "=>\n",
    "=>"
   ],
   "metadata": {
    "collapsed": false,
    "pycharm": {
     "name": "#%% md\n"
    }
   }
  },
  {
   "cell_type": "code",
   "execution_count": null,
   "outputs": [],
   "source": [],
   "metadata": {
    "collapsed": false,
    "pycharm": {
     "name": "#%%\n"
    }
   }
  }
 ],
 "metadata": {
  "kernelspec": {
   "display_name": "Python 3",
   "language": "python",
   "name": "python3"
  },
  "language_info": {
   "codemirror_mode": {
    "name": "ipython",
    "version": 2
   },
   "file_extension": ".py",
   "mimetype": "text/x-python",
   "name": "python",
   "nbconvert_exporter": "python",
   "pygments_lexer": "ipython2",
   "version": "2.7.6"
  }
 },
 "nbformat": 4,
 "nbformat_minor": 0
}